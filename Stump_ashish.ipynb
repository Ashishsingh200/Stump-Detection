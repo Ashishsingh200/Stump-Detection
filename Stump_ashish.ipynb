{
  "nbformat": 4,
  "nbformat_minor": 0,
  "metadata": {
    "colab": {
      "private_outputs": true,
      "provenance": [],
      "gpuType": "T4",
      "include_colab_link": true
    },
    "kernelspec": {
      "name": "python3",
      "display_name": "Python 3"
    },
    "language_info": {
      "name": "python"
    },
    "accelerator": "GPU"
  },
  "cells": [
    {
      "cell_type": "markdown",
      "metadata": {
        "id": "view-in-github",
        "colab_type": "text"
      },
      "source": [
        "<a href=\"https://colab.research.google.com/github/Ashishsingh200/Stump-Detection/blob/main/Stump_ashish.ipynb\" target=\"_parent\"><img src=\"https://colab.research.google.com/assets/colab-badge.svg\" alt=\"Open In Colab\"/></a>"
      ]
    },
    {
      "cell_type": "markdown",
      "source": [
        "# pitch Analysis\n"
      ],
      "metadata": {
        "id": "NsfMRP0OiMkU"
      }
    },
    {
      "cell_type": "code",
      "source": [
        "!nvidia-smi"
      ],
      "metadata": {
        "id": "giOySH4KdulP"
      },
      "execution_count": null,
      "outputs": []
    },
    {
      "cell_type": "code",
      "source": [
        "!pip install ultralytics"
      ],
      "metadata": {
        "id": "DzjKlOShd4u5"
      },
      "execution_count": null,
      "outputs": []
    },
    {
      "cell_type": "code",
      "source": [
        "import ultralytics\n",
        "ultralytics.checks()"
      ],
      "metadata": {
        "id": "SHYLL8KiblUs"
      },
      "execution_count": null,
      "outputs": []
    },
    {
      "cell_type": "code",
      "source": [
        "!pip install roboflow\n",
        "\n",
        "from roboflow import Roboflow\n",
        "rf = Roboflow(api_key=\"r1EFry7EHQwliSoLDzvr\")\n",
        "project = rf.workspace(\"ashish-singh-xoq1b\").project(\"pitch_keypoint_detection\")\n",
        "version = project.version(2)\n",
        "dataset = version.download(\"yolov5\")\n"
      ],
      "metadata": {
        "id": "Ag5YEn9Ue9Kp"
      },
      "execution_count": null,
      "outputs": []
    },
    {
      "cell_type": "code",
      "source": [
        "from ultralytics import YOLO"
      ],
      "metadata": {
        "id": "ZOBlCiOlkCjn"
      },
      "execution_count": null,
      "outputs": []
    },
    {
      "cell_type": "code",
      "source": [
        "%cd /content/Pitch_KeyPoint_Detection-2"
      ],
      "metadata": {
        "id": "eXaVBPAmFWaY"
      },
      "execution_count": null,
      "outputs": []
    },
    {
      "cell_type": "code",
      "source": [
        "!ls"
      ],
      "metadata": {
        "id": "YP-cgXEEnICQ"
      },
      "execution_count": null,
      "outputs": []
    },
    {
      "cell_type": "code",
      "source": [
        "\n",
        "!yolo task = detect mode=train model = yolov8s.pt data = data.yaml epochs=50 imgsz=640 plots = True"
      ],
      "metadata": {
        "id": "WqysVuXNFRgz"
      },
      "execution_count": null,
      "outputs": []
    },
    {
      "cell_type": "code",
      "source": [
        "ls"
      ],
      "metadata": {
        "id": "DsmXHASrNJcM"
      },
      "execution_count": null,
      "outputs": []
    },
    {
      "cell_type": "code",
      "source": [
        "from IPython.display import display, Image"
      ],
      "metadata": {
        "id": "RMbKkO8jspQF"
      },
      "execution_count": null,
      "outputs": []
    },
    {
      "cell_type": "markdown",
      "source": [],
      "metadata": {
        "id": "WxpLp04NlCHT"
      }
    },
    {
      "cell_type": "code",
      "source": [
        "Image(filename='/content/Pitch_KeyPoint_Detection-2/runs/detect/train/confusion_matrix_normalized.png',width=600)"
      ],
      "metadata": {
        "id": "oFa4Km1arpRz"
      },
      "execution_count": null,
      "outputs": []
    },
    {
      "cell_type": "code",
      "source": [
        "Image(filename='/content/Pitch_KeyPoint_Detection-2/runs/detect/train/results.png')"
      ],
      "metadata": {
        "id": "uxVAoWDpr6AU"
      },
      "execution_count": null,
      "outputs": []
    },
    {
      "cell_type": "code",
      "source": [
        "Image(filename='/content/Pitch_KeyPoint_Detection-2/runs/detect/train/val_batch0_pred.jpg')"
      ],
      "metadata": {
        "id": "a7IBON2ktZHS"
      },
      "execution_count": null,
      "outputs": []
    },
    {
      "cell_type": "code",
      "source": [
        "!yolo task=detect mode=val model=/content/Pitch_KeyPoint_Detection-2/runs/detect/train/weights/best.pt data=data.yaml"
      ],
      "metadata": {
        "id": "09bNAxDMtxXg"
      },
      "execution_count": null,
      "outputs": []
    },
    {
      "cell_type": "code",
      "source": [
        "!yolo task=detect mode=predict model=runs/detect/train/weights/best.pt conf=0.45 source=test/images"
      ],
      "metadata": {
        "id": "umfMu35wupl_"
      },
      "execution_count": null,
      "outputs": []
    },
    {
      "cell_type": "code",
      "source": [
        "!yolo task=detect mode=predict model=runs/detect/train/weights/best.pt conf=0.25 source=/content/images.jpg"
      ],
      "metadata": {
        "id": "6Qyy9_DHO1CX"
      },
      "execution_count": null,
      "outputs": []
    },
    {
      "cell_type": "code",
      "source": [
        "Image(filename='/content/Pitch-1/runs/detect/predict2/images.jpg')"
      ],
      "metadata": {
        "id": "rqUraHDuTnGx"
      },
      "execution_count": null,
      "outputs": []
    },
    {
      "cell_type": "code",
      "source": [
        "!yolo task=detect mode=predict model=runs/detect/train/weights/best.pt conf=0.25 source=/content/IMG-20240311-WA0005.jpg"
      ],
      "metadata": {
        "id": "eZdaQ62IUbRj"
      },
      "execution_count": null,
      "outputs": []
    },
    {
      "cell_type": "code",
      "source": [],
      "metadata": {
        "id": "LoSki4XVPgZc"
      },
      "execution_count": null,
      "outputs": []
    },
    {
      "cell_type": "code",
      "source": [
        "Image(filename='/content/Pitch-1/runs/detect/predict3/IMG-20240311-WA0005.jpg')"
      ],
      "metadata": {
        "id": "3c4wnVkjPkzQ"
      },
      "execution_count": null,
      "outputs": []
    },
    {
      "cell_type": "code",
      "source": [],
      "metadata": {
        "id": "K5ayWjGxPveH"
      },
      "execution_count": null,
      "outputs": []
    }
  ]
}